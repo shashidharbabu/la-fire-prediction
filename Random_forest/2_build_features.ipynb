{
 "cells": [
  {
   "cell_type": "markdown",
   "id": "d198fa22abc53405",
   "metadata": {},
   "source": [
    "# LA Wildfire Prediction: Feature Engineering\n",
    "\n",
    "This notebook creates additional features from the processed wildfire data to enhance the predictive power of our models.\n"
   ]
  },
  {
   "cell_type": "code",
   "execution_count": 19,
   "id": "initial_id",
   "metadata": {
    "ExecuteTime": {
     "end_time": "2025-04-26T20:16:29.292886Z",
     "start_time": "2025-04-26T20:16:28.864110Z"
    }
   },
   "outputs": [],
   "source": [
    "\n",
    "\n",
    "import pandas as pd\n",
    "import numpy as np\n",
    "import os\n",
    "from datetime import datetime\n",
    "\n",
    "# For displaying plots in the notebook\n",
    "%matplotlib inline\n"
   ]
  },
  {
   "cell_type": "markdown",
   "id": "2d9fc90c942e6ebf",
   "metadata": {},
   "source": [
    "## Data Loading\n",
    "The following function loads the processed wildfire dataset.\n"
   ]
  },
  {
   "cell_type": "code",
   "execution_count": 21,
   "id": "3a80df729e75163d",
   "metadata": {
    "ExecuteTime": {
     "end_time": "2025-04-26T20:16:29.297549Z",
     "start_time": "2025-04-26T20:16:29.295374Z"
    }
   },
   "outputs": [],
   "source": [
    "def load_processed_data(file_path):\n",
    "   \n",
    "    print(f\"Loading processed data from {file_path}...\")\n",
    "    df = pd.read_csv(file_path)\n",
    "    df['date'] = pd.to_datetime(df['date'])\n",
    "    print(f\"Loaded data with shape: {df.shape}\")\n",
    "    \n",
    "    # Print the head of loaded data\n",
    "    print(\"\\nLoaded Processed Data Head:\")\n",
    "    print(df.head())\n",
    "    \n",
    "    return df\n"
   ]
  },
  {
   "cell_type": "markdown",
   "id": "b63abd58d9c784e2",
   "metadata": {},
   "source": [
    "## Time-Based Features\n",
    "Create time-based features from the date column to capture seasonal and weekly patterns.\n"
   ]
  },
  {
   "cell_type": "code",
   "execution_count": 23,
   "id": "3dbd77c726d8929a",
   "metadata": {
    "ExecuteTime": {
     "end_time": "2025-04-26T20:16:29.381286Z",
     "start_time": "2025-04-26T20:16:29.378514Z"
    }
   },
   "outputs": [],
   "source": [
    "def create_time_features(df):\n",
    " \n",
    "    print(\"Creating time-based features...\")\n",
    "    \n",
    "    # Extract date components\n",
    "    df['year'] = df['date'].dt.year\n",
    "    df['month'] = df['date'].dt.month\n",
    "    df['day_of_year'] = df['date'].dt.dayofyear\n",
    "    df['day_of_week'] = df['date'].dt.dayofweek\n",
    "    df['is_weekend'] = df['date'].dt.dayofweek.isin([5, 6]).astype(int)\n",
    "    \n",
    "    # Create season feature\n",
    "    df['season'] = pd.cut(\n",
    "        df['month'], \n",
    "        bins=[0, 3, 6, 9, 12], \n",
    "        labels=['Winter', 'Spring', 'Summer', 'Fall'],\n",
    "        include_lowest=True\n",
    "    )\n",
    "    \n",
    "    # Convert season to dummy variables\n",
    "    df = pd.get_dummies(df, columns=['season'], drop_first=True)\n",
    "    \n",
    "    # Print the head after adding time features\n",
    "    print(\"\\nData Head After Time Features:\")\n",
    "    print(df.head())\n",
    "    \n",
    "    return df\n"
   ]
  },
  {
   "cell_type": "markdown",
   "id": "b518f141846b5478",
   "metadata": {},
   "source": [
    "## Rolling Window Features\n",
    "Create rolling window features to capture temporal patterns in weather variables.\n"
   ]
  },
  {
   "cell_type": "code",
   "execution_count": 25,
   "id": "1ffcb4c2a920ca4a",
   "metadata": {
    "ExecuteTime": {
     "end_time": "2025-04-26T20:16:29.388450Z",
     "start_time": "2025-04-26T20:16:29.385173Z"
    }
   },
   "outputs": [],
   "source": [
    "def create_rolling_features(df):\n",
    "  \n",
    "    print(\"Creating rolling window features...\")\n",
    "    \n",
    "    # Ensure data is sorted by date and station\n",
    "    df = df.sort_values(['STATION', 'date'])\n",
    "    \n",
    "    # Group by station\n",
    "    grouped = df.groupby('STATION')\n",
    "    \n",
    "    # Create rolling features for each station\n",
    "    rolling_dfs = []\n",
    "    \n",
    "    for station, group in grouped:\n",
    "        # Create 3-day rolling averages\n",
    "        if 'TMAX' in group.columns:\n",
    "            group['TMAX_3D'] = group['TMAX'].rolling(window=3, min_periods=1).mean()\n",
    "        if 'TMIN' in group.columns:\n",
    "            group['TMIN_3D'] = group['TMIN'].rolling(window=3, min_periods=1).mean()\n",
    "        if 'PRCP' in group.columns:\n",
    "            group['PRCP_3D'] = group['PRCP'].rolling(window=3, min_periods=1).mean()\n",
    "            group['PRCP_14D'] = group['PRCP'].rolling(window=14, min_periods=1).mean()\n",
    "        if 'AWND' in group.columns:\n",
    "            group['AWND_3D'] = group['AWND'].rolling(window=3, min_periods=1).mean()\n",
    "        \n",
    "        # Add to list of processed dataframes\n",
    "        rolling_dfs.append(group)\n",
    "    \n",
    "    # Combine all processed dataframes\n",
    "    df_rolling = pd.concat(rolling_dfs)\n",
    "    \n",
    "    # Print the head after adding rolling features\n",
    "    print(\"\\nData Head After Rolling Features:\")\n",
    "    print(df_rolling.head())\n",
    "    \n",
    "    return df_rolling\n"
   ]
  },
  {
   "cell_type": "markdown",
   "id": "7fa5e58becc86d1d",
   "metadata": {},
   "source": [
    "## Dryness Features\n",
    "Create features related to dryness conditions, which are critical for fire risk assessment.\n"
   ]
  },
  {
   "cell_type": "code",
   "execution_count": 27,
   "id": "1cb9b2d6d6ff8176",
   "metadata": {
    "ExecuteTime": {
     "end_time": "2025-04-26T20:16:29.395454Z",
     "start_time": "2025-04-26T20:16:29.392264Z"
    }
   },
   "outputs": [],
   "source": [
    "def create_dryness_features(df):\n",
    "\n",
    "    print(\"Creating dryness features...\")\n",
    "    \n",
    "    # Ensure data is sorted by date and station\n",
    "    df = df.sort_values(['STATION', 'date'])\n",
    "    \n",
    "    # Group by station\n",
    "    grouped = df.groupby('STATION')\n",
    "    \n",
    "    # Create dryness features for each station\n",
    "    dryness_dfs = []\n",
    "    \n",
    "    for station, group in grouped:\n",
    "        # Calculate days since last rain\n",
    "        if 'PRCP' in group.columns:\n",
    "            # Consider a day as rainy if precipitation > 0.01 inches\n",
    "            rainy_days = group['PRCP'] > 0.01\n",
    "            \n",
    "            # Calculate days since last rain\n",
    "            days_since_rain = np.zeros(len(group))\n",
    "            counter = 0\n",
    "            \n",
    "            for i in range(len(group)):\n",
    "                if rainy_days.iloc[i]:\n",
    "                    counter = 0\n",
    "                else:\n",
    "                    counter += 1\n",
    "                days_since_rain[i] = counter\n",
    "            \n",
    "            group['days_since_rain'] = days_since_rain\n",
    "            \n",
    "            # Create a drought severity index (simple version)\n",
    "            # Combine temperature and lack of precipitation\n",
    "            if 'TMAX' in group.columns:\n",
    "                group['drought_index'] = (group['TMAX'] / 100) * (group['days_since_rain'] / 30)\n",
    "                \n",
    "                # Clip to reasonable range [0, 1]\n",
    "                group['drought_index'] = group['drought_index'].clip(0, 1)\n",
    "        \n",
    "        # Add to list of processed dataframes\n",
    "        dryness_dfs.append(group)\n",
    "    \n",
    "    # Combine all processed dataframes\n",
    "    df_dryness = pd.concat(dryness_dfs)\n",
    "    \n",
    "    # Print the head after adding dryness features\n",
    "    print(\"\\nData Head After Dryness Features:\")\n",
    "    print(df_dryness.head())\n",
    "    \n",
    "    return df_dryness\n"
   ]
  },
  {
   "cell_type": "markdown",
   "id": "43b577a53120db68",
   "metadata": {},
   "source": [
    "## Fire Spread Potential\n",
    "Create a composite index that combines temperature, wind, and dryness components to estimate fire spread potential.\n"
   ]
  },
  {
   "cell_type": "code",
   "execution_count": 29,
   "id": "6881c4b9c921743d",
   "metadata": {
    "ExecuteTime": {
     "end_time": "2025-04-26T20:16:29.401787Z",
     "start_time": "2025-04-26T20:16:29.399073Z"
    }
   },
   "outputs": [],
   "source": [
    "def create_fire_spread_potential(df):\n",
    "  \n",
    "    print(\"Creating fire spread potential index...\")\n",
    "    \n",
    "    # Components for fire spread potential\n",
    "    # 1. Temperature component\n",
    "    if 'TMAX' in df.columns:\n",
    "        # Normalize temperature (assuming max temp in LA rarely exceeds 110°F)\n",
    "        temp_component = df['TMAX'] / 110\n",
    "    else:\n",
    "        temp_component = 0.5  # Default if no temperature data\n",
    "    \n",
    "    # 2. Wind component\n",
    "    if 'AWND' in df.columns:\n",
    "        # Normalize wind speed (assuming max wind in LA rarely exceeds 30 mph)\n",
    "        wind_component = df['AWND'] / 30\n",
    "    else:\n",
    "        wind_component = 0.5  # Default if no wind data\n",
    "    \n",
    "    # 3. Dryness component\n",
    "    if 'days_since_rain' in df.columns:\n",
    "        # Normalize dryness (30 days without rain is considered severe)\n",
    "        dryness_component = df['days_since_rain'] / 30\n",
    "    elif 'dry_streak' in df.columns:\n",
    "        dryness_component = df['dry_streak'] / 30\n",
    "    else:\n",
    "        dryness_component = 0.5  # Default if no dryness data\n",
    "    \n",
    "    # Calculate fire spread potential index\n",
    "    # Weighted combination of components\n",
    "    df['fire_spread_potential'] = (\n",
    "        0.3 * temp_component + \n",
    "        0.4 * wind_component + \n",
    "        0.3 * dryness_component\n",
    "    )\n",
    "    \n",
    "    # Clip to range [0, 1]\n",
    "    df['fire_spread_potential'] = df['fire_spread_potential'].clip(0, 1)\n",
    "    \n",
    "    # Print the head after adding fire spread potential\n",
    "    print(\"\\nData Head After Fire Spread Potential:\")\n",
    "    print(df.head())\n",
    "    \n",
    "    return df\n"
   ]
  },
  {
   "cell_type": "markdown",
   "id": "21f1e0db4345b947",
   "metadata": {},
   "source": [
    "## Save Engineered Data\n",
    "Save the dataframe with all engineered features to a CSV file.\n"
   ]
  },
  {
   "cell_type": "code",
   "execution_count": 31,
   "id": "de5298815e47c96b",
   "metadata": {
    "ExecuteTime": {
     "end_time": "2025-04-26T20:16:29.407268Z",
     "start_time": "2025-04-26T20:16:29.405353Z"
    }
   },
   "outputs": [],
   "source": [
    "def save_engineered_data(df, output_path):\n",
    "  \n",
    "    print(f\"Saving engineered data to {output_path}...\")\n",
    "    # Create directory if it doesn't exist\n",
    "    os.makedirs(os.path.dirname(output_path), exist_ok=True)\n",
    "    df.to_csv(output_path, index=False)\n",
    "    print(f\"Saved engineered data with shape: {df.shape}\")\n",
    "    \n",
    "    # Print the head of final engineered data\n",
    "    print(\"\\nFinal Engineered Data Head:\")\n",
    "    print(df.head())\n"
   ]
  },
  {
   "cell_type": "markdown",
   "id": "3279310e50d90142",
   "metadata": {},
   "source": [
    "## Main Execution\n",
    "Run the complete feature engineering pipeline.\n"
   ]
  },
  {
   "cell_type": "code",
   "execution_count": 33,
   "id": "551b7d2c146a9dcb",
   "metadata": {
    "ExecuteTime": {
     "end_time": "2025-04-26T20:16:29.412842Z",
     "start_time": "2025-04-26T20:16:29.410901Z"
    }
   },
   "outputs": [],
   "source": [
    "def main():\n",
    "    # Define file paths\n",
    "    input_path = \"../data/processed/processed_la_fire_data.csv\"\n",
    "    output_path = \"../data/processed/engineered_la_fire_data.csv\"\n",
    "    \n",
    "    # Load processed data\n",
    "    df = load_processed_data(input_path)\n",
    "    \n",
    "    # Create features\n",
    "    df = create_time_features(df)\n",
    "    df = create_rolling_features(df)\n",
    "    df = create_dryness_features(df)\n",
    "    df = create_fire_spread_potential(df)\n",
    "    \n",
    "    # Save engineered data\n",
    "    save_engineered_data(df, output_path)\n",
    "    \n",
    "    print(\"Feature engineering completed successfully!\")\n",
    "    \n",
    "    return df\n"
   ]
  },
  {
   "cell_type": "code",
   "execution_count": 35,
   "id": "830f8f1deebd0efd",
   "metadata": {
    "ExecuteTime": {
     "end_time": "2025-04-26T20:16:33.028679Z",
     "start_time": "2025-04-26T20:16:29.419472Z"
    }
   },
   "outputs": [
    {
     "name": "stdout",
     "output_type": "stream",
     "text": [
      "Loading processed data from ../data/processed/processed_la_fire_data.csv...\n",
      "Loaded data with shape: (224986, 35)\n",
      "\n",
      "Loaded Processed Data Head:\n",
      "        date  Fire_Occurred STATION NAME  AWND  DAPR  MDPR  PGTM  PRCP  TAVG  \\\n",
      "0 2014-12-27              0       0    0   0.0   0.0   0.0   0.0   0.0   0.0   \n",
      "1 2014-12-28              0       0    0   0.0   0.0   0.0   0.0   0.0   0.0   \n",
      "2 2014-12-29              0       0    0   0.0   0.0   0.0   0.0   0.0   0.0   \n",
      "3 2014-12-30              0       0    0   0.0   0.0   0.0   0.0   0.0   0.0   \n",
      "4 2014-12-31              0       0    0   0.0   0.0   0.0   0.0   0.0   0.0   \n",
      "\n",
      "   ...  WT11  year  month  PRCP_7D  AWND_7D  PRCP_prev  AWND_prev  is_dry  \\\n",
      "0  ...   0.0   0.0    0.0      0.0      0.0        0.0        0.0     0.0   \n",
      "1  ...   0.0   0.0    0.0      0.0      0.0        0.0        0.0     0.0   \n",
      "2  ...   0.0   0.0    0.0      0.0      0.0        0.0        0.0     0.0   \n",
      "3  ...   0.0   0.0    0.0      0.0      0.0        0.0        0.0     0.0   \n",
      "4  ...   0.0   0.0    0.0      0.0      0.0        0.0        0.0     0.0   \n",
      "\n",
      "   dry_streak  LST_Day_C  \n",
      "0         0.0  12.674622  \n",
      "1         0.0  12.674622  \n",
      "2         0.0  12.674622  \n",
      "3         0.0  12.674622  \n",
      "4         0.0  12.674622  \n",
      "\n",
      "[5 rows x 35 columns]\n",
      "Creating time-based features...\n",
      "\n",
      "Data Head After Time Features:\n",
      "        date  Fire_Occurred STATION NAME  AWND  DAPR  MDPR  PGTM  PRCP  TAVG  \\\n",
      "0 2014-12-27              0       0    0   0.0   0.0   0.0   0.0   0.0   0.0   \n",
      "1 2014-12-28              0       0    0   0.0   0.0   0.0   0.0   0.0   0.0   \n",
      "2 2014-12-29              0       0    0   0.0   0.0   0.0   0.0   0.0   0.0   \n",
      "3 2014-12-30              0       0    0   0.0   0.0   0.0   0.0   0.0   0.0   \n",
      "4 2014-12-31              0       0    0   0.0   0.0   0.0   0.0   0.0   0.0   \n",
      "\n",
      "   ...  AWND_prev  is_dry  dry_streak  LST_Day_C  day_of_year  day_of_week  \\\n",
      "0  ...        0.0     0.0         0.0  12.674622          361            5   \n",
      "1  ...        0.0     0.0         0.0  12.674622          362            6   \n",
      "2  ...        0.0     0.0         0.0  12.674622          363            0   \n",
      "3  ...        0.0     0.0         0.0  12.674622          364            1   \n",
      "4  ...        0.0     0.0         0.0  12.674622          365            2   \n",
      "\n",
      "   is_weekend  season_Spring  season_Summer  season_Fall  \n",
      "0           1          False          False         True  \n",
      "1           1          False          False         True  \n",
      "2           0          False          False         True  \n",
      "3           0          False          False         True  \n",
      "4           0          False          False         True  \n",
      "\n",
      "[5 rows x 41 columns]\n",
      "Creating rolling window features...\n",
      "\n",
      "Data Head After Rolling Features:\n",
      "        date  Fire_Occurred STATION NAME  AWND  DAPR  MDPR  PGTM  PRCP  TAVG  \\\n",
      "0 2014-12-27              0       0    0   0.0   0.0   0.0   0.0   0.0   0.0   \n",
      "1 2014-12-28              0       0    0   0.0   0.0   0.0   0.0   0.0   0.0   \n",
      "2 2014-12-29              0       0    0   0.0   0.0   0.0   0.0   0.0   0.0   \n",
      "3 2014-12-30              0       0    0   0.0   0.0   0.0   0.0   0.0   0.0   \n",
      "4 2014-12-31              0       0    0   0.0   0.0   0.0   0.0   0.0   0.0   \n",
      "\n",
      "   ...  day_of_week  is_weekend  season_Spring  season_Summer  season_Fall  \\\n",
      "0  ...            5           1          False          False         True   \n",
      "1  ...            6           1          False          False         True   \n",
      "2  ...            0           0          False          False         True   \n",
      "3  ...            1           0          False          False         True   \n",
      "4  ...            2           0          False          False         True   \n",
      "\n",
      "   TMAX_3D  TMIN_3D  PRCP_3D  PRCP_14D  AWND_3D  \n",
      "0      0.0      0.0      0.0       0.0      0.0  \n",
      "1      0.0      0.0      0.0       0.0      0.0  \n",
      "2      0.0      0.0      0.0       0.0      0.0  \n",
      "3      0.0      0.0      0.0       0.0      0.0  \n",
      "4      0.0      0.0      0.0       0.0      0.0  \n",
      "\n",
      "[5 rows x 46 columns]\n",
      "Creating dryness features...\n",
      "\n",
      "Data Head After Dryness Features:\n",
      "        date  Fire_Occurred STATION NAME  AWND  DAPR  MDPR  PGTM  PRCP  TAVG  \\\n",
      "0 2014-12-27              0       0    0   0.0   0.0   0.0   0.0   0.0   0.0   \n",
      "1 2014-12-28              0       0    0   0.0   0.0   0.0   0.0   0.0   0.0   \n",
      "2 2014-12-29              0       0    0   0.0   0.0   0.0   0.0   0.0   0.0   \n",
      "3 2014-12-30              0       0    0   0.0   0.0   0.0   0.0   0.0   0.0   \n",
      "4 2014-12-31              0       0    0   0.0   0.0   0.0   0.0   0.0   0.0   \n",
      "\n",
      "   ...  season_Spring  season_Summer  season_Fall  TMAX_3D  TMIN_3D  PRCP_3D  \\\n",
      "0  ...          False          False         True      0.0      0.0      0.0   \n",
      "1  ...          False          False         True      0.0      0.0      0.0   \n",
      "2  ...          False          False         True      0.0      0.0      0.0   \n",
      "3  ...          False          False         True      0.0      0.0      0.0   \n",
      "4  ...          False          False         True      0.0      0.0      0.0   \n",
      "\n",
      "   PRCP_14D  AWND_3D  days_since_rain  drought_index  \n",
      "0       0.0      0.0              1.0            0.0  \n",
      "1       0.0      0.0              2.0            0.0  \n",
      "2       0.0      0.0              3.0            0.0  \n",
      "3       0.0      0.0              4.0            0.0  \n",
      "4       0.0      0.0              5.0            0.0  \n",
      "\n",
      "[5 rows x 48 columns]\n",
      "Creating fire spread potential index...\n",
      "\n",
      "Data Head After Fire Spread Potential:\n",
      "        date  Fire_Occurred STATION NAME  AWND  DAPR  MDPR  PGTM  PRCP  TAVG  \\\n",
      "0 2014-12-27              0       0    0   0.0   0.0   0.0   0.0   0.0   0.0   \n",
      "1 2014-12-28              0       0    0   0.0   0.0   0.0   0.0   0.0   0.0   \n",
      "2 2014-12-29              0       0    0   0.0   0.0   0.0   0.0   0.0   0.0   \n",
      "3 2014-12-30              0       0    0   0.0   0.0   0.0   0.0   0.0   0.0   \n",
      "4 2014-12-31              0       0    0   0.0   0.0   0.0   0.0   0.0   0.0   \n",
      "\n",
      "   ...  season_Summer  season_Fall  TMAX_3D  TMIN_3D  PRCP_3D  PRCP_14D  \\\n",
      "0  ...          False         True      0.0      0.0      0.0       0.0   \n",
      "1  ...          False         True      0.0      0.0      0.0       0.0   \n",
      "2  ...          False         True      0.0      0.0      0.0       0.0   \n",
      "3  ...          False         True      0.0      0.0      0.0       0.0   \n",
      "4  ...          False         True      0.0      0.0      0.0       0.0   \n",
      "\n",
      "   AWND_3D  days_since_rain  drought_index  fire_spread_potential  \n",
      "0      0.0              1.0            0.0                   0.01  \n",
      "1      0.0              2.0            0.0                   0.02  \n",
      "2      0.0              3.0            0.0                   0.03  \n",
      "3      0.0              4.0            0.0                   0.04  \n",
      "4      0.0              5.0            0.0                   0.05  \n",
      "\n",
      "[5 rows x 49 columns]\n",
      "Saving engineered data to ../data/processed/engineered_la_fire_data.csv...\n",
      "Saved engineered data with shape: (224986, 49)\n",
      "\n",
      "Final Engineered Data Head:\n",
      "        date  Fire_Occurred STATION NAME  AWND  DAPR  MDPR  PGTM  PRCP  TAVG  \\\n",
      "0 2014-12-27              0       0    0   0.0   0.0   0.0   0.0   0.0   0.0   \n",
      "1 2014-12-28              0       0    0   0.0   0.0   0.0   0.0   0.0   0.0   \n",
      "2 2014-12-29              0       0    0   0.0   0.0   0.0   0.0   0.0   0.0   \n",
      "3 2014-12-30              0       0    0   0.0   0.0   0.0   0.0   0.0   0.0   \n",
      "4 2014-12-31              0       0    0   0.0   0.0   0.0   0.0   0.0   0.0   \n",
      "\n",
      "   ...  season_Summer  season_Fall  TMAX_3D  TMIN_3D  PRCP_3D  PRCP_14D  \\\n",
      "0  ...          False         True      0.0      0.0      0.0       0.0   \n",
      "1  ...          False         True      0.0      0.0      0.0       0.0   \n",
      "2  ...          False         True      0.0      0.0      0.0       0.0   \n",
      "3  ...          False         True      0.0      0.0      0.0       0.0   \n",
      "4  ...          False         True      0.0      0.0      0.0       0.0   \n",
      "\n",
      "   AWND_3D  days_since_rain  drought_index  fire_spread_potential  \n",
      "0      0.0              1.0            0.0                   0.01  \n",
      "1      0.0              2.0            0.0                   0.02  \n",
      "2      0.0              3.0            0.0                   0.03  \n",
      "3      0.0              4.0            0.0                   0.04  \n",
      "4      0.0              5.0            0.0                   0.05  \n",
      "\n",
      "[5 rows x 49 columns]\n",
      "Feature engineering completed successfully!\n"
     ]
    }
   ],
   "source": [
    "# Execute the feature engineering pipeline\n",
    "engineered_df = main()\n"
   ]
  },
  {
   "cell_type": "code",
   "execution_count": null,
   "id": "d29b04b4-c1d0-458b-b1cf-b9e9c354e553",
   "metadata": {},
   "outputs": [],
   "source": []
  }
 ],
 "metadata": {
  "kernelspec": {
   "display_name": "Python 3 (ipykernel)",
   "language": "python",
   "name": "python3"
  },
  "language_info": {
   "codemirror_mode": {
    "name": "ipython",
    "version": 3
   },
   "file_extension": ".py",
   "mimetype": "text/x-python",
   "name": "python",
   "nbconvert_exporter": "python",
   "pygments_lexer": "ipython3",
   "version": "3.12.2"
  }
 },
 "nbformat": 4,
 "nbformat_minor": 5
}
